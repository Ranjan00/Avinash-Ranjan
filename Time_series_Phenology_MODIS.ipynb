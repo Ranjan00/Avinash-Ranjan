{
  "nbformat": 4,
  "nbformat_minor": 0,
  "metadata": {
    "colab": {
      "provenance": [],
      "authorship_tag": "ABX9TyPze5FI7zuG9F2k9d5GVs6w",
      "include_colab_link": true
    },
    "kernelspec": {
      "name": "python3",
      "display_name": "Python 3"
    },
    "language_info": {
      "name": "python"
    }
  },
  "cells": [
    {
      "cell_type": "markdown",
      "metadata": {
        "id": "view-in-github",
        "colab_type": "text"
      },
      "source": [
        "<a href=\"https://colab.research.google.com/github/Ranjan00/Avinash-Ranjan/blob/master/Time_series_Phenology_MODIS.ipynb\" target=\"_parent\"><img src=\"https://colab.research.google.com/assets/colab-badge.svg\" alt=\"Open In Colab\"/></a>"
      ]
    },
    {
      "cell_type": "code",
      "execution_count": 7,
      "metadata": {
        "id": "LKuWGRASmO5b",
        "colab": {
          "base_uri": "https://localhost:8080/",
          "height": 17
        },
        "outputId": "3f35e8d0-51c1-48f5-d152-5e57dd8a54d8"
      },
      "outputs": [
        {
          "output_type": "display_data",
          "data": {
            "text/plain": [
              "<IPython.core.display.HTML object>"
            ],
            "text/html": [
              "\n",
              "            <style>\n",
              "                .geemap-dark {\n",
              "                    --jp-widgets-color: white;\n",
              "                    --jp-widgets-label-color: white;\n",
              "                    --jp-ui-font-color1: white;\n",
              "                    --jp-layout-color2: #454545;\n",
              "                    background-color: #383838;\n",
              "                }\n",
              "\n",
              "                .geemap-dark .jupyter-button {\n",
              "                    --jp-layout-color3: #383838;\n",
              "                }\n",
              "\n",
              "                .geemap-colab {\n",
              "                    background-color: var(--colab-primary-surface-color, white);\n",
              "                }\n",
              "\n",
              "                .geemap-colab .jupyter-button {\n",
              "                    --jp-layout-color3: var(--colab-primary-surface-color, white);\n",
              "                }\n",
              "            </style>\n",
              "            "
            ]
          },
          "metadata": {}
        }
      ],
      "source": [
        "# Install Earth Engine and geemap\n",
        "!pip install -q earthengine-api geemap\n",
        "\n",
        "# Import required libraries\n",
        "import ee\n",
        "import geemap\n",
        "\n",
        "# Authenticate Earth Engine (no project ID here)\n",
        "ee.Authenticate()\n",
        "\n",
        "# Initialize Earth Engine (project ID used here)\n",
        "ee.Initialize(project='ee-akr')\n"
      ]
    },
    {
      "cell_type": "code",
      "source": [
        "def get_modis_evi_extended(year):\n",
        "    # Jan 1 current year to June 30 next year\n",
        "    start_date = ee.Date.fromYMD(year, 1, 1)\n",
        "    end_date = ee.Date.fromYMD(year + 1, 6, 30)\n",
        "\n",
        "    evi_collection = (ee.ImageCollection('MODIS/061/MOD13A1')\n",
        "                      .filterDate(start_date, end_date)\n",
        "                      .filterBounds(aoi)\n",
        "                      .select('EVI')\n",
        "                      .map(lambda img: img.multiply(0.0001).copyProperties(img, [\"system:time_start\"])))\n",
        "\n",
        "    return evi_collection\n",
        "\n",
        "# Example: Stack for phenology year 2001 (Jan 2001–June 2002)\n",
        "evi_2001_extended = get_modis_evi_extended(2001)\n"
      ],
      "metadata": {
        "colab": {
          "base_uri": "https://localhost:8080/",
          "height": 17
        },
        "collapsed": true,
        "id": "KmIwY19dB0nC",
        "outputId": "d778493a-75c1-45a6-e215-5872e3e16ee8"
      },
      "execution_count": 60,
      "outputs": [
        {
          "output_type": "display_data",
          "data": {
            "text/plain": [
              "<IPython.core.display.HTML object>"
            ],
            "text/html": [
              "\n",
              "            <style>\n",
              "                .geemap-dark {\n",
              "                    --jp-widgets-color: white;\n",
              "                    --jp-widgets-label-color: white;\n",
              "                    --jp-ui-font-color1: white;\n",
              "                    --jp-layout-color2: #454545;\n",
              "                    background-color: #383838;\n",
              "                }\n",
              "\n",
              "                .geemap-dark .jupyter-button {\n",
              "                    --jp-layout-color3: #383838;\n",
              "                }\n",
              "\n",
              "                .geemap-colab {\n",
              "                    background-color: var(--colab-primary-surface-color, white);\n",
              "                }\n",
              "\n",
              "                .geemap-colab .jupyter-button {\n",
              "                    --jp-layout-color3: var(--colab-primary-surface-color, white);\n",
              "                }\n",
              "            </style>\n",
              "            "
            ]
          },
          "metadata": {}
        }
      ]
    },
    {
      "cell_type": "code",
      "source": [
        "# Function to get MODIS EVI from Jan 1 current year to June 30 next year\n",
        "def get_modis_evi_extended(year):\n",
        "    start_date = ee.Date.fromYMD(year, 1, 1)\n",
        "    end_date = ee.Date.fromYMD(year + 1, 6, 30)\n",
        "\n",
        "    evi_collection = (ee.ImageCollection('MODIS/061/MOD13A1')\n",
        "                      .filterDate(start_date, end_date)\n",
        "                      .filterBounds(aoi)\n",
        "                      .select('EVI')\n",
        "                      .map(lambda img: img.multiply(0.0001).copyProperties(img, [\"system:time_start\"])))\n",
        "\n",
        "    return evi_collection\n",
        "\n",
        "# Function to convert EVI ImageCollection to a single multi-band image\n",
        "def stack_evi_bands(evi_collection):\n",
        "    def set_band_names(img):\n",
        "        date = ee.Date(img.get('system:time_start')).format('YYYYMMdd')\n",
        "        return img.rename(date)\n",
        "\n",
        "    evi_collection_named = evi_collection.map(set_band_names)\n",
        "\n",
        "    evi_list = evi_collection_named.toList(evi_collection_named.size())\n",
        "    stacked = ee.Image(evi_list.get(0))\n",
        "\n",
        "    def stack_bands(img, prev_img):\n",
        "        return ee.Image(prev_img).addBands(ee.Image(img))\n",
        "\n",
        "    stacked_image = ee.Image(evi_list.slice(1).iterate(stack_bands, stacked))\n",
        "\n",
        "    return stacked_image\n",
        "\n",
        "# Use the updated function to get EVI collection for year 2001 phenology window\n",
        "evi_2001_extended = get_modis_evi_extended(2001)\n",
        "\n",
        "# Stack the EVI collection into a multi-band image\n",
        "evi_2001_stack = stack_evi_bands(evi_2001_extended)\n"
      ],
      "metadata": {
        "colab": {
          "base_uri": "https://localhost:8080/",
          "height": 17
        },
        "id": "6q8ozJdPCwGi",
        "outputId": "61ac1b7d-e112-4bcf-d507-2f892efc31bd"
      },
      "execution_count": 23,
      "outputs": [
        {
          "output_type": "display_data",
          "data": {
            "text/plain": [
              "<IPython.core.display.HTML object>"
            ],
            "text/html": [
              "\n",
              "            <style>\n",
              "                .geemap-dark {\n",
              "                    --jp-widgets-color: white;\n",
              "                    --jp-widgets-label-color: white;\n",
              "                    --jp-ui-font-color1: white;\n",
              "                    --jp-layout-color2: #454545;\n",
              "                    background-color: #383838;\n",
              "                }\n",
              "\n",
              "                .geemap-dark .jupyter-button {\n",
              "                    --jp-layout-color3: #383838;\n",
              "                }\n",
              "\n",
              "                .geemap-colab {\n",
              "                    background-color: var(--colab-primary-surface-color, white);\n",
              "                }\n",
              "\n",
              "                .geemap-colab .jupyter-button {\n",
              "                    --jp-layout-color3: var(--colab-primary-surface-color, white);\n",
              "                }\n",
              "            </style>\n",
              "            "
            ]
          },
          "metadata": {}
        }
      ]
    },
    {
      "cell_type": "code",
      "source": [
        "# Example point inside AOI (longitude, latitude) – adjust to your area\n",
        "sample_point = ee.Geometry.Point([87.57466, 25.16745])\n",
        "\n"
      ],
      "metadata": {
        "colab": {
          "base_uri": "https://localhost:8080/",
          "height": 17
        },
        "id": "LcwW5OpCC7Ej",
        "outputId": "80bf53db-3362-47ce-87b0-829b17ea9238"
      },
      "execution_count": 38,
      "outputs": [
        {
          "output_type": "display_data",
          "data": {
            "text/plain": [
              "<IPython.core.display.HTML object>"
            ],
            "text/html": [
              "\n",
              "            <style>\n",
              "                .geemap-dark {\n",
              "                    --jp-widgets-color: white;\n",
              "                    --jp-widgets-label-color: white;\n",
              "                    --jp-ui-font-color1: white;\n",
              "                    --jp-layout-color2: #454545;\n",
              "                    background-color: #383838;\n",
              "                }\n",
              "\n",
              "                .geemap-dark .jupyter-button {\n",
              "                    --jp-layout-color3: #383838;\n",
              "                }\n",
              "\n",
              "                .geemap-colab {\n",
              "                    background-color: var(--colab-primary-surface-color, white);\n",
              "                }\n",
              "\n",
              "                .geemap-colab .jupyter-button {\n",
              "                    --jp-layout-color3: var(--colab-primary-surface-color, white);\n",
              "                }\n",
              "            </style>\n",
              "            "
            ]
          },
          "metadata": {}
        }
      ]
    },
    {
      "cell_type": "code",
      "source": [
        "# Get dictionary of band values at sample point\n",
        "evi_dict = evi_2001_stack.reduceRegion(\n",
        "    reducer=ee.Reducer.first(),  # get pixel value per band\n",
        "    geometry=sample_point,\n",
        "    scale=250,\n",
        "    maxPixels=1e9\n",
        ").getInfo()\n",
        "\n",
        "# evi_dict now has keys as band names (dates) and values as EVI\n",
        "# Extract dates and values as lists\n",
        "band_names = list(evi_dict.keys())\n",
        "evi_values = list(evi_dict.values())\n",
        "\n",
        "# Sort by date for plotting\n",
        "dates_and_vals = sorted(zip(band_names, evi_values), key=lambda x: x[0])\n",
        "\n",
        "# Separate\n",
        "dates_sorted = [d for d,v in dates_and_vals]\n",
        "evi_sorted = [v for d,v in dates_and_vals]\n"
      ],
      "metadata": {
        "colab": {
          "base_uri": "https://localhost:8080/",
          "height": 17
        },
        "id": "cy1mvfagC-Mb",
        "outputId": "733c9539-11ec-4691-965b-795cae580151"
      },
      "execution_count": 39,
      "outputs": [
        {
          "output_type": "display_data",
          "data": {
            "text/plain": [
              "<IPython.core.display.HTML object>"
            ],
            "text/html": [
              "\n",
              "            <style>\n",
              "                .geemap-dark {\n",
              "                    --jp-widgets-color: white;\n",
              "                    --jp-widgets-label-color: white;\n",
              "                    --jp-ui-font-color1: white;\n",
              "                    --jp-layout-color2: #454545;\n",
              "                    background-color: #383838;\n",
              "                }\n",
              "\n",
              "                .geemap-dark .jupyter-button {\n",
              "                    --jp-layout-color3: #383838;\n",
              "                }\n",
              "\n",
              "                .geemap-colab {\n",
              "                    background-color: var(--colab-primary-surface-color, white);\n",
              "                }\n",
              "\n",
              "                .geemap-colab .jupyter-button {\n",
              "                    --jp-layout-color3: var(--colab-primary-surface-color, white);\n",
              "                }\n",
              "            </style>\n",
              "            "
            ]
          },
          "metadata": {}
        }
      ]
    },
    {
      "cell_type": "code",
      "source": [
        "import datetime\n",
        "\n",
        "# Get dictionary of band values at sample point\n",
        "evi_dict = evi_2001_stack.reduceRegion(\n",
        "    reducer=ee.Reducer.first(),  # get pixel value per band\n",
        "    geometry=sample_point,\n",
        "    scale=250,\n",
        "    maxPixels=1e9\n",
        ").getInfo()\n",
        "\n",
        "if evi_dict:\n",
        "    # Extract dates and values as lists\n",
        "    band_names = list(evi_dict.keys())\n",
        "    evi_values = list(evi_dict.values())\n",
        "\n",
        "    # Filter out None values (missing data)\n",
        "    filtered = [(d,v) for d,v in zip(band_names, evi_values) if v is not None]\n",
        "\n",
        "    # Sort by date\n",
        "    dates_and_vals = sorted(filtered, key=lambda x: x[0])\n",
        "\n",
        "    # Separate\n",
        "    dates_sorted = [datetime.datetime.strptime(d, '%Y%m%d') for d,v in dates_and_vals]\n",
        "    evi_sorted = [v for d,v in dates_and_vals]\n",
        "\n",
        "    # Now dates_sorted and evi_sorted are ready for plotting or further analysis\n",
        "else:\n",
        "    print(\"No data found at sample point.\")\n"
      ],
      "metadata": {
        "colab": {
          "base_uri": "https://localhost:8080/",
          "height": 17
        },
        "id": "3kir5gWcHkgm",
        "outputId": "839d3249-38bc-4f77-a7eb-ad42f92ae797"
      },
      "execution_count": 40,
      "outputs": [
        {
          "output_type": "display_data",
          "data": {
            "text/plain": [
              "<IPython.core.display.HTML object>"
            ],
            "text/html": [
              "\n",
              "            <style>\n",
              "                .geemap-dark {\n",
              "                    --jp-widgets-color: white;\n",
              "                    --jp-widgets-label-color: white;\n",
              "                    --jp-ui-font-color1: white;\n",
              "                    --jp-layout-color2: #454545;\n",
              "                    background-color: #383838;\n",
              "                }\n",
              "\n",
              "                .geemap-dark .jupyter-button {\n",
              "                    --jp-layout-color3: #383838;\n",
              "                }\n",
              "\n",
              "                .geemap-colab {\n",
              "                    background-color: var(--colab-primary-surface-color, white);\n",
              "                }\n",
              "\n",
              "                .geemap-colab .jupyter-button {\n",
              "                    --jp-layout-color3: var(--colab-primary-surface-color, white);\n",
              "                }\n",
              "            </style>\n",
              "            "
            ]
          },
          "metadata": {}
        }
      ]
    },
    {
      "cell_type": "code",
      "source": [
        "import matplotlib.pyplot as plt\n",
        "import pandas as pd\n",
        "\n",
        "# Convert to DataFrame\n",
        "df = pd.DataFrame({\n",
        "    'date': pd.to_datetime(band_names, format='%Y%m%d'),\n",
        "    'EVI': evi_values\n",
        "})\n",
        "\n",
        "# Plot\n",
        "plt.figure(figsize=(10, 4))\n",
        "plt.plot(df['date'], df['EVI'], marker='o', color='green')\n",
        "plt.title('EVI Time Series at Sample Point')\n",
        "plt.xlabel('Date')\n",
        "plt.ylabel('EVI')\n",
        "plt.grid(True)\n",
        "plt.tight_layout()\n",
        "plt.show()\n"
      ],
      "metadata": {
        "colab": {
          "base_uri": "https://localhost:8080/",
          "height": 362
        },
        "id": "K4PoVl_rDC2r",
        "outputId": "c5c39ccd-27a4-4ab0-f4cd-cc491ae2d85c"
      },
      "execution_count": 65,
      "outputs": [
        {
          "output_type": "display_data",
          "data": {
            "text/plain": [
              "<IPython.core.display.HTML object>"
            ],
            "text/html": [
              "\n",
              "            <style>\n",
              "                .geemap-dark {\n",
              "                    --jp-widgets-color: white;\n",
              "                    --jp-widgets-label-color: white;\n",
              "                    --jp-ui-font-color1: white;\n",
              "                    --jp-layout-color2: #454545;\n",
              "                    background-color: #383838;\n",
              "                }\n",
              "\n",
              "                .geemap-dark .jupyter-button {\n",
              "                    --jp-layout-color3: #383838;\n",
              "                }\n",
              "\n",
              "                .geemap-colab {\n",
              "                    background-color: var(--colab-primary-surface-color, white);\n",
              "                }\n",
              "\n",
              "                .geemap-colab .jupyter-button {\n",
              "                    --jp-layout-color3: var(--colab-primary-surface-color, white);\n",
              "                }\n",
              "            </style>\n",
              "            "
            ]
          },
          "metadata": {}
        },
        {
          "output_type": "display_data",
          "data": {
            "text/plain": [
              "<Figure size 1000x400 with 1 Axes>"
            ],
            "image/png": "[encoded data removed]"
          },
          "metadata": {}
        }
      ]
    },
    {
      "cell_type": "code",
      "source": [
        "import numpy as np\n",
        "import pandas as pd\n",
        "from scipy.signal import savgol_filter\n",
        "\n",
        "# Assume df contains 'date' and 'EVI' columns\n",
        "df = df.copy()\n",
        "\n",
        "# Step 1: Replace snow/invalid data (optional step: based on QA, not used here directly)\n",
        "# Step 2: Remove outliers based on 3*SD around 7-point median\n",
        "window = 7\n",
        "med_rolling = df['EVI'].rolling(window=window, center=True, min_periods=1).median()\n",
        "std_rolling = df['EVI'].rolling(window=window, center=True, min_periods=1).std()\n",
        "mask_outliers = (np.abs(df['EVI'] - med_rolling) > 3 * std_rolling)\n",
        "\n",
        "df['EVI_filtered'] = df['EVI']\n",
        "df.loc[mask_outliers, 'EVI_filtered'] = np.nan\n",
        "\n",
        "# Step 3: Replace NaNs and negative values via linear interpolation\n",
        "evi_array = df['EVI_filtered'].to_numpy()\n",
        "evi_array = np.where(np.isnan(evi_array) | (evi_array < 0), np.nan, evi_array)\n",
        "nans, x = np.isnan(evi_array), lambda z: z.nonzero()[0]\n",
        "evi_array[nans] = np.interp(x(nans), x(~nans), evi_array[~nans])\n",
        "\n",
        "# Step 4: Smooth with Savitzky-Golay filter\n",
        "evi_smooth = savgol_filter(evi_array, window_length=7, polyorder=2)\n",
        "\n",
        "\n",
        "# Step 5: Phenology metrics extraction with different SOS/EOS thresholds\n",
        "amp = evi_smooth.max() - evi_smooth.min()\n",
        "sos_threshold = evi_smooth.min() + 0.3 * amp  # 30% for SOS\n",
        "eos_threshold = evi_smooth.min() + 0.15 * amp  # 20% for EOS\n",
        "\n",
        "# Peak of Season (POS)\n",
        "pos_index = np.argmax(evi_smooth)\n",
        "pos_date = df['date'].iloc[pos_index]\n",
        "\n",
        "# Start of Season (SOS)\n",
        "try:\n",
        "    sos_index = next(i for i in range(pos_index) if evi_smooth[i] >= sos_threshold)\n",
        "except StopIteration:\n",
        "    sos_index = 0\n",
        "sos_date = df['date'].iloc[sos_index]\n",
        "\n",
        "# End of Season (EOS)\n",
        "try:\n",
        "    eos_index = pos_index + next(i for i, val in enumerate(evi_smooth[pos_index:]) if val <= eos_threshold)\n",
        "except StopIteration:\n",
        "    eos_index = len(evi_smooth) - 1\n",
        "eos_date = df['date'].iloc[eos_index]\n",
        "\n",
        "\n",
        "# Length of Season (LOS)\n",
        "los_days = (eos_date - sos_date).days\n",
        "\n",
        "# ✅ Ensure output is printed\n",
        "print(f\"\\n📅 Phenology Metrics:\")\n",
        "print(f\"Start of Season (SOS): {sos_date.date()}\")\n",
        "print(f\"Peak of Season (POS): {pos_date.date()}\")\n",
        "print(f\"End of Season (EOS): {eos_date.date()}\")\n",
        "print(f\"Length of Season (LOS): {los_days} days\")\n"
      ],
      "metadata": {
        "colab": {
          "base_uri": "https://localhost:8080/",
          "height": 121
        },
        "id": "-rivmpbmaBJT",
        "outputId": "10e58f28-bb8f-419a-ce61-88e6abaa2ea5"
      },
      "execution_count": 76,
      "outputs": [
        {
          "output_type": "display_data",
          "data": {
            "text/plain": [
              "<IPython.core.display.HTML object>"
            ],
            "text/html": [
              "\n",
              "            <style>\n",
              "                .geemap-dark {\n",
              "                    --jp-widgets-color: white;\n",
              "                    --jp-widgets-label-color: white;\n",
              "                    --jp-ui-font-color1: white;\n",
              "                    --jp-layout-color2: #454545;\n",
              "                    background-color: #383838;\n",
              "                }\n",
              "\n",
              "                .geemap-dark .jupyter-button {\n",
              "                    --jp-layout-color3: #383838;\n",
              "                }\n",
              "\n",
              "                .geemap-colab {\n",
              "                    background-color: var(--colab-primary-surface-color, white);\n",
              "                }\n",
              "\n",
              "                .geemap-colab .jupyter-button {\n",
              "                    --jp-layout-color3: var(--colab-primary-surface-color, white);\n",
              "                }\n",
              "            </style>\n",
              "            "
            ]
          },
          "metadata": {}
        },
        {
          "output_type": "stream",
          "name": "stdout",
          "text": [
            "\n",
            "📅 Phenology Metrics:\n",
            "Start of Season (SOS): 2001-05-09\n",
            "Peak of Season (POS): 2001-07-12\n",
            "End of Season (EOS): 2002-02-18\n",
            "Length of Season (LOS): 285 days\n"
          ]
        }
      ]
    },
    {
      "cell_type": "code",
      "source": [
        "import numpy as np\n",
        "import pandas as pd\n",
        "from scipy.signal import savgol_filter\n",
        "\n",
        "# Assume df contains 'date' and 'EVI' columns\n",
        "df = df.copy()\n",
        "\n",
        "# Step 1: Replace snow/invalid data (optional step: based on QA, not used here directly)\n",
        "# Step 2: Remove outliers based on 3*SD around 7-point median\n",
        "window = 7\n",
        "med_rolling = df['EVI'].rolling(window=window, center=True, min_periods=1).median()\n",
        "std_rolling = df['EVI'].rolling(window=window, center=True, min_periods=1).std()\n",
        "mask_outliers = (np.abs(df['EVI'] - med_rolling) > 3 * std_rolling)\n",
        "\n",
        "df['EVI_filtered'] = df['EVI']\n",
        "df.loc[mask_outliers, 'EVI_filtered'] = np.nan\n",
        "\n",
        "# Step 3: Replace NaNs and negative values via linear interpolation\n",
        "evi_array = df['EVI_filtered'].to_numpy()\n",
        "evi_array = np.where(np.isnan(evi_array) | (evi_array < 0), np.nan, evi_array)\n",
        "nans, x = np.isnan(evi_array), lambda z: z.nonzero()[0]\n",
        "evi_array[nans] = np.interp(x(nans), x(~nans), evi_array[~nans])\n",
        "\n",
        "# Step 4: Smooth with Savitzky-Golay filter\n",
        "evi_smooth = savgol_filter(evi_array, window_length=7, polyorder=2)\n",
        "\n",
        "# Step 5: Phenology metrics extraction\n",
        "amp = evi_smooth.max() - evi_smooth.min()\n",
        "threshold = evi_smooth.min() + 0.3 * amp\n",
        "\n",
        "# Peak of Season (POS)\n",
        "pos_index = np.argmax(evi_smooth)\n",
        "pos_date = df['date'].iloc[pos_index]\n",
        "\n",
        "# Start of Season (SOS)\n",
        "try:\n",
        "    sos_index = next(i for i in range(pos_index) if evi_smooth[i] >= threshold)\n",
        "except StopIteration:\n",
        "    sos_index = 0\n",
        "sos_date = df['date'].iloc[sos_index]\n",
        "\n",
        "# End of Season (EOS)\n",
        "try:\n",
        "    eos_index = pos_index + next(i for i, val in enumerate(evi_smooth[pos_index:]) if val <= threshold)\n",
        "except StopIteration:\n",
        "    eos_index = len(evi_smooth) - 1\n",
        "eos_date = df['date'].iloc[eos_index]\n",
        "\n",
        "# Length of Season (LOS)\n",
        "los_days = (eos_date - sos_date).days\n",
        "\n",
        "# Output\n",
        "print(f\"Start of Season (SOS): {sos_date.date()}\")\n",
        "print(f\"Peak of Season (POS): {pos_date.date()}\")\n",
        "print(f\"End of Season (EOS): {eos_date.date()}\")\n",
        "print(f\"Length of Season (LOS): {los_days} days\")\n"
      ],
      "metadata": {
        "colab": {
          "base_uri": "https://localhost:8080/",
          "height": 86
        },
        "id": "kkUnZOzIYLH0",
        "outputId": "e8e9aa06-9e1d-4196-9bbc-f6b1444c9b8f"
      },
      "execution_count": 61,
      "outputs": [
        {
          "output_type": "display_data",
          "data": {
            "text/plain": [
              "<IPython.core.display.HTML object>"
            ],
            "text/html": [
              "\n",
              "            <style>\n",
              "                .geemap-dark {\n",
              "                    --jp-widgets-color: white;\n",
              "                    --jp-widgets-label-color: white;\n",
              "                    --jp-ui-font-color1: white;\n",
              "                    --jp-layout-color2: #454545;\n",
              "                    background-color: #383838;\n",
              "                }\n",
              "\n",
              "                .geemap-dark .jupyter-button {\n",
              "                    --jp-layout-color3: #383838;\n",
              "                }\n",
              "\n",
              "                .geemap-colab {\n",
              "                    background-color: var(--colab-primary-surface-color, white);\n",
              "                }\n",
              "\n",
              "                .geemap-colab .jupyter-button {\n",
              "                    --jp-layout-color3: var(--colab-primary-surface-color, white);\n",
              "                }\n",
              "            </style>\n",
              "            "
            ]
          },
          "metadata": {}
        },
        {
          "output_type": "stream",
          "name": "stdout",
          "text": [
            "Start of Season (SOS): 2001-05-09\n",
            "Peak of Season (POS): 2001-07-12\n",
            "End of Season (EOS): 2002-01-01\n",
            "Length of Season (LOS): 237 days\n"
          ]
        }
      ]
    },
    {
      "cell_type": "code",
      "source": [
        "import numpy as np\n",
        "from scipy.signal import savgol_filter\n",
        "\n",
        "# Extract EVI values as numpy array\n",
        "evi_array = np.array(df['EVI'])\n",
        "\n",
        "# Handle missing or invalid values by interpolation or simple fill (optional)\n",
        "# Here, we replace negative or nan values with nearest valid value\n",
        "evi_array = np.where(np.isnan(evi_array) | (evi_array < 0), np.nan, evi_array)\n",
        "nans, x= np.isnan(evi_array), lambda z: z.nonzero()[0]\n",
        "evi_array[nans]= np.interp(x(nans), x(~nans), evi_array[~nans])\n",
        "\n",
        "# Smooth using Savitzky-Golay filter (window=5, polyorder=2)\n",
        "evi_smooth = savgol_filter(evi_array, window_length=7, polyorder=2)\n",
        "\n",
        "# Define threshold for SOS and EOS as % of amplitude\n",
        "amp = evi_smooth.max() - evi_smooth.min()\n",
        "threshold = evi_smooth.min() + 0.3 * amp  # 20% above min EVI\n",
        "\n",
        "# Find POS (peak of season)\n",
        "pos_index = np.argmax(evi_smooth)\n",
        "pos_date = df['date'].iloc[pos_index]\n",
        "\n",
        "# Find SOS: first date before POS where EVI crosses threshold going up\n",
        "try:\n",
        "    sos_index = next(i for i in range(pos_index) if evi_smooth[i] >= threshold)\n",
        "except StopIteration:\n",
        "    sos_index = 0\n",
        "sos_date = df['date'].iloc[sos_index]\n",
        "\n",
        "# Find EOS: first date after POS where EVI crosses threshold going down\n",
        "try:\n",
        "    eos_index = pos_index + next(i for i, val in enumerate(evi_smooth[pos_index:]) if val <= threshold)\n",
        "except StopIteration:\n",
        "    eos_index = len(evi_smooth) - 1\n",
        "eos_date = df['date'].iloc[eos_index]\n",
        "\n",
        "# Calculate LOS (length of season) in days\n",
        "los_days = (eos_date - sos_date).days\n",
        "\n",
        "# Print results\n",
        "print(f\"Start of Season (SOS): {sos_date.date()}\")\n",
        "print(f\"Peak of Season (POS): {pos_date.date()}\")\n",
        "print(f\"End of Season (EOS): {eos_date.date()}\")\n",
        "print(f\"Length of Season (LOS): {los_days} days\")\n"
      ],
      "metadata": {
        "colab": {
          "base_uri": "https://localhost:8080/",
          "height": 86
        },
        "id": "PDSXN88oEAmz",
        "outputId": "1e689d77-ff15-4810-81df-83bd48903798"
      },
      "execution_count": 59,
      "outputs": [
        {
          "output_type": "display_data",
          "data": {
            "text/plain": [
              "<IPython.core.display.HTML object>"
            ],
            "text/html": [
              "\n",
              "            <style>\n",
              "                .geemap-dark {\n",
              "                    --jp-widgets-color: white;\n",
              "                    --jp-widgets-label-color: white;\n",
              "                    --jp-ui-font-color1: white;\n",
              "                    --jp-layout-color2: #454545;\n",
              "                    background-color: #383838;\n",
              "                }\n",
              "\n",
              "                .geemap-dark .jupyter-button {\n",
              "                    --jp-layout-color3: #383838;\n",
              "                }\n",
              "\n",
              "                .geemap-colab {\n",
              "                    background-color: var(--colab-primary-surface-color, white);\n",
              "                }\n",
              "\n",
              "                .geemap-colab .jupyter-button {\n",
              "                    --jp-layout-color3: var(--colab-primary-surface-color, white);\n",
              "                }\n",
              "            </style>\n",
              "            "
            ]
          },
          "metadata": {}
        },
        {
          "output_type": "stream",
          "name": "stdout",
          "text": [
            "Start of Season (SOS): 2001-05-09\n",
            "Peak of Season (POS): 2001-07-12\n",
            "End of Season (EOS): 2002-01-01\n",
            "Length of Season (LOS): 237 days\n"
          ]
        }
      ]
    }
  ]
}