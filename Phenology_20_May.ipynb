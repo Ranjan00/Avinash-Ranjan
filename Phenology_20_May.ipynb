# STEP 1: Install required packages
!pip install -q rasterio gdown tqdm scipy

# STEP 2: Mount Google Drive
from google.colab import drive
drive.mount('/content/drive')

# STEP 3: Download GeoTIFF from shared Google Drive link
import gdown

file_id = "15k4SuRKM9hvwWRGvJPa0ZMK5xlr8rcVE"
output_path = "/content/MOD13A1_NIRv_Stack_2021_to_June2022.tif"

gdown.download(id=file_id, output=output_path, quiet=False)

# STEP 4: Import required libraries
import numpy as np
import rasterio
from scipy.signal import savgol_filter
from datetime import datetime, timedelta
from tqdm import tqdm
import os

# STEP 5: Define input/output paths
input_path = output_path
output_dir = "/content"

# Define 16-day interval dates from Jan 1, 2021 to June 30, 2022 (approx 34 time steps)
start_date = datetime(2021, 1, 1)
dates = [start_date + timedelta(days=16 * i) for i in range(34)]
julian_days = np.array([int(d.strftime("%j")) for d in dates])

# STEP 6: Define phenology extraction function
def extract_phenology(pixel_ts):
    if np.all(np.isnan(pixel_ts)):
        return [np.nan] * 4

    try:
        smoothed = savgol_filter(pixel_ts, window_length=5, polyorder=3, mode='interp')
    except:
        return [np.nan] * 4

    amp = np.nanmax(smoothed) - np.nanmin(smoothed)
    if amp < 0.02:
        return [np.nan] * 4

    min_val = np.nanmin(smoothed)
    max_val = np.nanmax(smoothed)
    sos_thresh = min_val + 0.2 * amp
    eos_thresh = min_val + 0.3 * amp

    above_thresh = np.where(smoothed > sos_thresh)[0]
    if len(above_thresh) < 2:
        return [np.nan] * 4

    SOS_idx = above_thresh[0]
    POS_idx = np.nanargmax(smoothed)

    # EOS is first index after POS where value drops below EOS threshold
    EOS_idx = next((i for i in range(POS_idx, len(smoothed)) if smoothed[i] < eos_thresh), above_thresh[-1])

    LOS = EOS_idx - SOS_idx if EOS_idx >= SOS_idx else (len(smoothed) - SOS_idx + EOS_idx)

    return [
        julian_days[SOS_idx],
        julian_days[POS_idx],
        julian_days[EOS_idx],
        LOS
    ]

# STEP 7: Load raster stack and initialize output arrays
with rasterio.open(input_path) as src:
    profile = src.profile
    stack = src.read()
    height, width = profile['height'], profile['width']
    profile.update(count=1, dtype='float32', nodata=np.nan)

SOS = np.full((height, width), np.nan, dtype='float32')
POS = np.full((height, width), np.nan, dtype='float32')
EOS = np.full((height, width), np.nan, dtype='float32')
LOS = np.full((height, width), np.nan, dtype='float32')

# STEP 8: Process pixel-wise phenology
for i in tqdm(range(height), desc="Extracting Phenology"):
    for j in range(width):
        pixel_ts = stack[:, i, j]
        if np.all(np.isnan(pixel_ts)):
            continue
        sos, pos, eos, los = extract_phenology(pixel_ts)
        SOS[i, j] = sos
        POS[i, j] = pos
        EOS[i, j] = eos
        LOS[i, j] = los

# STEP 9: Save outputs
output_files = {
    "SOS_2021_2022.tif": SOS,
    "POS_2021_2022.tif": POS,
    "EOS_2021_2022.tif": EOS,
    "LOS_2021_2022.tif": LOS
}

for fname, data in output_files.items():
    out_path = os.path.join(output_dir, fname)
    with rasterio.open(out_path, 'w', **profile) as dst:
        dst.write(data, 1)

print("✅ Phenological metrics extracted and saved as GeoTIFFs.")
